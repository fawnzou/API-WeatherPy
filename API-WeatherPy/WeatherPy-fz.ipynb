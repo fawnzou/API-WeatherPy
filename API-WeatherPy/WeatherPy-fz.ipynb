{
 "cells": [
  {
   "cell_type": "markdown",
   "metadata": {},
   "source": [
    "# WeatherPy\n",
    "----\n",
    "\n",
    "### Analysis\n",
    "* As expected, the weather becomes significantly warmer as one approaches the equator (0 Deg. Latitude). More interestingly, however, is the fact that the southern hemisphere tends to be warmer this time of year than the northern hemisphere. This may be due to the tilt of the earth.\n",
    "* There is no strong relationship between latitude and cloudiness. However, it is interesting to see that a strong band of cities sits at 0, 80, and 100% cloudiness.\n",
    "* There is no strong relationship between latitude and wind speed. However, in northern hemispheres there is a flurry of cities with over 20 mph of wind.\n",
    "\n",
    "---\n",
    "\n",
    "#### Note\n",
    "* Instructions have been included for each segment. You do not have to follow them exactly, but they are included to help you think through the steps."
   ]
  },
  {
   "cell_type": "code",
   "execution_count": 53,
   "metadata": {
    "scrolled": true
   },
   "outputs": [],
   "source": [
    "# Dependencies and Setup\n",
    "import matplotlib.pyplot as plt\n",
    "import pandas as pd\n",
    "import numpy as np\n",
    "import requests\n",
    "import time\n",
    "import json\n",
    "\n",
    "# Import API key\n",
    "from api_keys import api_key  \n",
    "\n",
    "# Incorporated citipy to determine city based on latitude and longitude\n",
    "from citipy import citipy\n",
    "\n",
    "# Output File (CSV)\n",
    "output_data_file = \"output_data/cities.csv\"\n",
    "\n",
    "# Range of latitudes and longitudes\n",
    "lat_range = (-90, 90)\n",
    "lng_range = (-180, 180)"
   ]
  },
  {
   "cell_type": "markdown",
   "metadata": {},
   "source": [
    "## Generate Cities List"
   ]
  },
  {
   "cell_type": "code",
   "execution_count": 36,
   "metadata": {},
   "outputs": [
    {
     "data": {
      "text/plain": [
       "611"
      ]
     },
     "execution_count": 36,
     "metadata": {},
     "output_type": "execute_result"
    }
   ],
   "source": [
    "# List for holding lat_lngs and cities\n",
    "lat_lngs = []\n",
    "cities = []\n",
    "\n",
    "# Create a set of random lat and lng combinations\n",
    "lats = np.random.uniform(low=-90.000, high=90.000, size=1500)\n",
    "lngs = np.random.uniform(low=-180.000, high=180.000, size=1500)\n",
    "lat_lngs = zip(lats, lngs)\n",
    "\n",
    "# Identify nearest city for each lat, lng combination\n",
    "for lat_lng in lat_lngs:\n",
    "    city = citipy.nearest_city(lat_lng[0], lat_lng[1]).city_name\n",
    "    \n",
    "    # If the city is unique, then add it to a our cities list\n",
    "    if city not in cities:\n",
    "        cities.append(city)\n",
    "\n",
    "# Print the city count to confirm sufficient count\n",
    "len(cities)"
   ]
  },
  {
   "cell_type": "markdown",
   "metadata": {},
   "source": [
    "### Perform API Calls\n",
    "* Perform a weather check on each city using a series of successive API calls.\n",
    "* Include a print log of each city as it'sbeing processed (with the city number and city name).\n"
   ]
  },
  {
   "cell_type": "code",
   "execution_count": 37,
   "metadata": {},
   "outputs": [],
   "source": [
    "\n",
    "# Pull weather data for each city using API calls.\n",
    "\n",
    "weather_data=[]\n",
    "base_url = \"http://api.openweathermap.org/data/2.5/weather?\"\n",
    "\n",
    "\n",
    "for i in range(len(cities)):\n",
    "    params={ \"q\":cities[i],\n",
    "             \"APPID\": api_key}\n",
    "    response = requests.get(base_url, params=params)\n",
    "    weather_json = response.json()\n",
    "    weather_data.append(weather_json)\n",
    "    \n",
    "  \n"
   ]
  },
  {
   "cell_type": "code",
   "execution_count": 38,
   "metadata": {},
   "outputs": [
    {
     "data": {
      "text/plain": [
       "{'coord': {'lon': -122.43, 'lat': 37.46},\n",
       " 'weather': [{'id': 804,\n",
       "   'main': 'Clouds',\n",
       "   'description': 'overcast clouds',\n",
       "   'icon': '04n'}],\n",
       " 'base': 'stations',\n",
       " 'main': {'temp': 285.22,\n",
       "  'pressure': 1015,\n",
       "  'humidity': 82,\n",
       "  'temp_min': 283.15,\n",
       "  'temp_max': 287.15},\n",
       " 'visibility': 14484,\n",
       " 'wind': {'speed': 2.1, 'deg': 250},\n",
       " 'clouds': {'all': 90},\n",
       " 'dt': 1554275207,\n",
       " 'sys': {'type': 1,\n",
       "  'id': 4322,\n",
       "  'message': 0.0086,\n",
       "  'country': 'US',\n",
       "  'sunrise': 1554299532,\n",
       "  'sunset': 1554345207},\n",
       " 'id': 5354943,\n",
       " 'name': 'Half Moon Bay',\n",
       " 'cod': 200}"
      ]
     },
     "execution_count": 38,
     "metadata": {},
     "output_type": "execute_result"
    }
   ],
   "source": [
    "# Check one weather_data\n",
    "weather_data[1]"
   ]
  },
  {
   "cell_type": "code",
   "execution_count": 39,
   "metadata": {
    "scrolled": true
   },
   "outputs": [
    {
     "name": "stdout",
     "output_type": "stream",
     "text": [
      "Beginning Data Retrieval\n",
      "------------------------\n",
      "Processing Record 1 of Set 1 | gravdal\n",
      "Processing Record 2 of Set 1 | half moon bay\n",
      "Processing Record 3 of Set 1 | kruisfontein\n",
      "Processing Record 4 of Set 1 | encruzilhada do sul\n",
      "Processing Record 5 of Set 1 | verkhnyaya inta\n",
      "Processing Record 6 of Set 1 | castro\n",
      "Processing Record 7 of Set 1 | olinda\n",
      "Processing Record 8 of Set 1 | port augusta\n",
      "Processing Record 9 of Set 1 | solon\n",
      "Processing Record 10 of Set 1 | mehamn\n",
      "Processing Record 11 of Set 1 | severo-kurilsk\n",
      "Processing Record 12 of Set 1 | port elizabeth\n",
      "Processing Record 13 of Set 1 | cape town\n",
      "Processing Record 14 of Set 1 | svetlogorsk\n",
      "Processing Record 15 of Set 1 | taoudenni\n",
      "Processing Record 16 of Set 1 | bluff\n",
      "Processing Record 17 of Set 1 | jamestown\n",
      "City not found. Skipping...\n",
      "Processing Record 18 of Set 1 | balsas\n",
      "Processing Record 19 of Set 1 | mataura\n",
      "Processing Record 20 of Set 1 | mahebourg\n",
      "Processing Record 21 of Set 1 | constantine\n",
      "Processing Record 22 of Set 1 | tuktoyaktuk\n",
      "Processing Record 23 of Set 1 | vardo\n",
      "Processing Record 24 of Set 1 | atuona\n",
      "City not found. Skipping...\n",
      "Processing Record 25 of Set 1 | sur\n",
      "Processing Record 26 of Set 1 | narsaq\n",
      "Processing Record 27 of Set 1 | cidreira\n",
      "Processing Record 28 of Set 1 | ushuaia\n",
      "City not found. Skipping...\n",
      "Processing Record 29 of Set 1 | butaritari\n",
      "Processing Record 30 of Set 1 | avera\n",
      "Processing Record 31 of Set 1 | shirokiy\n",
      "City not found. Skipping...\n",
      "City not found. Skipping...\n",
      "Processing Record 32 of Set 1 | punta arenas\n",
      "Processing Record 33 of Set 1 | georgetown\n",
      "Processing Record 34 of Set 1 | dakar\n",
      "Processing Record 35 of Set 1 | plouzane\n",
      "Processing Record 36 of Set 1 | provideniya\n",
      "Processing Record 37 of Set 1 | hammerfest\n",
      "Processing Record 38 of Set 1 | huarmey\n",
      "Processing Record 39 of Set 1 | busselton\n",
      "Processing Record 40 of Set 1 | canto do buriti\n",
      "Processing Record 41 of Set 1 | saint-philippe\n",
      "Processing Record 42 of Set 1 | linkoping\n",
      "City not found. Skipping...\n",
      "Processing Record 43 of Set 1 | rikitea\n",
      "Processing Record 44 of Set 1 | ramat yishay\n",
      "Processing Record 45 of Set 1 | marystown\n",
      "Processing Record 46 of Set 1 | yellowknife\n",
      "Processing Record 47 of Set 1 | hobart\n",
      "Processing Record 48 of Set 1 | ponta do sol\n",
      "Processing Record 49 of Set 1 | albany\n",
      "Processing Record 50 of Set 1 | omboue\n",
      "Processing Record 0 of Set 2 | bataipora\n",
      "Processing Record 1 of Set 2 | pitimbu\n",
      "Processing Record 2 of Set 2 | deer lake\n",
      "Processing Record 3 of Set 2 | warmbad\n",
      "Processing Record 4 of Set 2 | batemans bay\n",
      "City not found. Skipping...\n",
      "Processing Record 5 of Set 2 | faanui\n",
      "Processing Record 6 of Set 2 | pevek\n",
      "Processing Record 7 of Set 2 | holme\n",
      "Processing Record 8 of Set 2 | new norfolk\n",
      "Processing Record 9 of Set 2 | geraldton\n",
      "Processing Record 10 of Set 2 | mali\n",
      "Processing Record 11 of Set 2 | ellisras\n",
      "Processing Record 12 of Set 2 | sabang\n",
      "Processing Record 13 of Set 2 | alice springs\n",
      "City not found. Skipping...\n",
      "Processing Record 14 of Set 2 | cabo san lucas\n",
      "Processing Record 15 of Set 2 | heide\n",
      "Processing Record 16 of Set 2 | ilulissat\n",
      "Processing Record 17 of Set 2 | perth\n",
      "Processing Record 18 of Set 2 | tura\n",
      "Processing Record 19 of Set 2 | bambous virieux\n",
      "Processing Record 20 of Set 2 | upernavik\n",
      "Processing Record 21 of Set 2 | yar-sale\n",
      "Processing Record 22 of Set 2 | general roca\n",
      "Processing Record 23 of Set 2 | mackay\n",
      "City not found. Skipping...\n",
      "Processing Record 24 of Set 2 | dabakala\n",
      "Processing Record 25 of Set 2 | victoria\n",
      "City not found. Skipping...\n",
      "Processing Record 26 of Set 2 | east london\n",
      "Processing Record 27 of Set 2 | husavik\n",
      "Processing Record 28 of Set 2 | hermanus\n",
      "Processing Record 29 of Set 2 | russell\n",
      "Processing Record 30 of Set 2 | dingzhou\n",
      "Processing Record 31 of Set 2 | berdigestyakh\n",
      "Processing Record 32 of Set 2 | kidal\n",
      "Processing Record 33 of Set 2 | ixtapa\n",
      "Processing Record 34 of Set 2 | olds\n",
      "Processing Record 35 of Set 2 | riyadh\n",
      "Processing Record 36 of Set 2 | verdun\n",
      "Processing Record 37 of Set 2 | verkhoyansk\n",
      "Processing Record 38 of Set 2 | susanville\n",
      "Processing Record 39 of Set 2 | arraial do cabo\n",
      "Processing Record 40 of Set 2 | bredasdorp\n",
      "Processing Record 41 of Set 2 | port alfred\n",
      "Processing Record 42 of Set 2 | esperance\n",
      "Processing Record 43 of Set 2 | thompson\n",
      "Processing Record 44 of Set 2 | hasaki\n",
      "Processing Record 45 of Set 2 | sorong\n",
      "Processing Record 46 of Set 2 | high rock\n",
      "Processing Record 47 of Set 2 | qaanaaq\n",
      "Processing Record 48 of Set 2 | saskylakh\n",
      "Processing Record 49 of Set 2 | doka\n",
      "Processing Record 0 of Set 3 | tiksi\n",
      "Processing Record 1 of Set 3 | sonoita\n",
      "Processing Record 2 of Set 3 | norman wells\n",
      "Processing Record 3 of Set 3 | mar del plata\n",
      "Processing Record 4 of Set 3 | banyo\n",
      "Processing Record 5 of Set 3 | numan\n",
      "Processing Record 6 of Set 3 | juegang\n",
      "City not found. Skipping...\n",
      "Processing Record 7 of Set 3 | berlevag\n",
      "Processing Record 8 of Set 3 | darya khan\n",
      "Processing Record 9 of Set 3 | ancud\n",
      "Processing Record 10 of Set 3 | longyearbyen\n",
      "Processing Record 11 of Set 3 | pimentel\n",
      "Processing Record 12 of Set 3 | sorland\n",
      "Processing Record 13 of Set 3 | termiz\n",
      "Processing Record 14 of Set 3 | anderson\n",
      "Processing Record 15 of Set 3 | chulumani\n",
      "Processing Record 16 of Set 3 | cherskiy\n",
      "Processing Record 17 of Set 3 | hervey bay\n",
      "Processing Record 18 of Set 3 | barrow\n",
      "Processing Record 19 of Set 3 | saint george\n",
      "Processing Record 20 of Set 3 | avarua\n",
      "Processing Record 21 of Set 3 | macas\n",
      "Processing Record 22 of Set 3 | zarubino\n",
      "City not found. Skipping...\n",
      "Processing Record 23 of Set 3 | mutoko\n",
      "Processing Record 24 of Set 3 | north bay\n",
      "Processing Record 25 of Set 3 | rabat\n",
      "Processing Record 26 of Set 3 | lata\n",
      "Processing Record 27 of Set 3 | puerto ayora\n",
      "Processing Record 28 of Set 3 | gouyave\n",
      "Processing Record 29 of Set 3 | henties bay\n",
      "Processing Record 30 of Set 3 | kodiak\n",
      "Processing Record 31 of Set 3 | nara\n",
      "Processing Record 32 of Set 3 | bathsheba\n",
      "Processing Record 33 of Set 3 | souillac\n",
      "Processing Record 34 of Set 3 | kostomuksha\n",
      "Processing Record 35 of Set 3 | marion\n",
      "Processing Record 36 of Set 3 | palu\n",
      "City not found. Skipping...\n",
      "City not found. Skipping...\n",
      "City not found. Skipping...\n",
      "Processing Record 37 of Set 3 | san carlos de bariloche\n",
      "Processing Record 38 of Set 3 | chokurdakh\n",
      "Processing Record 39 of Set 3 | port moresby\n",
      "Processing Record 40 of Set 3 | ballina\n",
      "Processing Record 41 of Set 3 | vestmannaeyjar\n",
      "Processing Record 42 of Set 3 | moree\n",
      "Processing Record 43 of Set 3 | los llanos de aridane\n",
      "Processing Record 44 of Set 3 | torbay\n",
      "Processing Record 45 of Set 3 | burnie\n",
      "Processing Record 46 of Set 3 | nikolskoye\n",
      "Processing Record 47 of Set 3 | caravelas\n",
      "Processing Record 48 of Set 3 | alenquer\n",
      "Processing Record 49 of Set 3 | vryburg\n",
      "Processing Record 0 of Set 4 | newtownards\n",
      "Processing Record 1 of Set 4 | vila franca do campo\n",
      "Processing Record 2 of Set 4 | talcahuano\n",
      "Processing Record 3 of Set 4 | kapaa\n",
      "Processing Record 4 of Set 4 | mareeba\n",
      "City not found. Skipping...\n",
      "Processing Record 5 of Set 4 | iqaluit\n",
      "Processing Record 6 of Set 4 | moquegua\n",
      "Processing Record 7 of Set 4 | bakchar\n",
      "Processing Record 8 of Set 4 | tha chang\n",
      "Processing Record 9 of Set 4 | guerrero negro\n",
      "Processing Record 10 of Set 4 | brownwood\n",
      "Processing Record 11 of Set 4 | qingdao\n",
      "Processing Record 12 of Set 4 | hay river\n",
      "Processing Record 13 of Set 4 | komsomolskiy\n",
      "Processing Record 14 of Set 4 | luderitz\n",
      "Processing Record 15 of Set 4 | anloga\n",
      "Processing Record 16 of Set 4 | katobu\n",
      "Processing Record 17 of Set 4 | prince rupert\n",
      "Processing Record 18 of Set 4 | yanam\n",
      "Processing Record 19 of Set 4 | noumea\n",
      "Processing Record 20 of Set 4 | hushitai\n",
      "Processing Record 21 of Set 4 | luchegorsk\n",
      "City not found. Skipping...\n",
      "Processing Record 22 of Set 4 | huangchuan\n",
      "Processing Record 23 of Set 4 | dillon\n",
      "City not found. Skipping...\n",
      "Processing Record 24 of Set 4 | hamilton\n",
      "Processing Record 25 of Set 4 | gombong\n",
      "City not found. Skipping...\n",
      "City not found. Skipping...\n",
      "Processing Record 26 of Set 4 | bundaberg\n",
      "Processing Record 27 of Set 4 | impfondo\n",
      "Processing Record 28 of Set 4 | boralday\n",
      "Processing Record 29 of Set 4 | manggar\n",
      "Processing Record 30 of Set 4 | haverfordwest\n",
      "Processing Record 31 of Set 4 | ahipara\n",
      "Processing Record 32 of Set 4 | sulangan\n",
      "Processing Record 33 of Set 4 | kaitangata\n",
      "Processing Record 34 of Set 4 | kununurra\n",
      "Processing Record 35 of Set 4 | karadaglije\n",
      "Processing Record 36 of Set 4 | takaungu\n",
      "Processing Record 37 of Set 4 | belmonte\n",
      "Processing Record 38 of Set 4 | antas\n",
      "Processing Record 39 of Set 4 | chuy\n",
      "Processing Record 40 of Set 4 | moron\n",
      "City not found. Skipping...\n",
      "Processing Record 41 of Set 4 | najran\n",
      "Processing Record 42 of Set 4 | north bend\n",
      "Processing Record 43 of Set 4 | okha\n",
      "Processing Record 44 of Set 4 | zelenoborskiy\n",
      "Processing Record 45 of Set 4 | suez\n",
      "Processing Record 46 of Set 4 | khatanga\n",
      "Processing Record 47 of Set 4 | coquimbo\n",
      "Processing Record 48 of Set 4 | codrington\n",
      "Processing Record 49 of Set 4 | hualmay\n",
      "Processing Record 0 of Set 5 | oyama\n",
      "Processing Record 1 of Set 5 | lebu\n",
      "Processing Record 2 of Set 5 | verkhnevilyuysk\n",
      "Processing Record 3 of Set 5 | beringovskiy\n",
      "Processing Record 4 of Set 5 | san patricio\n",
      "City not found. Skipping...\n",
      "Processing Record 5 of Set 5 | porto seguro\n",
      "Processing Record 6 of Set 5 | zyryanka\n",
      "Processing Record 7 of Set 5 | prieska\n",
      "Processing Record 8 of Set 5 | carnarvon\n",
      "Processing Record 9 of Set 5 | yulara\n",
      "Processing Record 10 of Set 5 | kavaratti\n",
      "Processing Record 11 of Set 5 | sisimiut\n",
      "Processing Record 12 of Set 5 | vaini\n",
      "Processing Record 13 of Set 5 | leningradskiy\n",
      "Processing Record 14 of Set 5 | tuatapere\n",
      "Processing Record 15 of Set 5 | jati\n",
      "City not found. Skipping...\n",
      "Processing Record 16 of Set 5 | constitucion\n",
      "Processing Record 17 of Set 5 | mpulungu\n",
      "Processing Record 18 of Set 5 | havre-saint-pierre\n",
      "Processing Record 19 of Set 5 | barcelos\n",
      "Processing Record 20 of Set 5 | nantucket\n",
      "Processing Record 21 of Set 5 | tasiilaq\n",
      "Processing Record 22 of Set 5 | mount gambier\n",
      "Processing Record 23 of Set 5 | santa fe\n",
      "Processing Record 24 of Set 5 | grindavik\n",
      "Processing Record 25 of Set 5 | viedma\n",
      "Processing Record 26 of Set 5 | palestine\n",
      "Processing Record 27 of Set 5 | lompoc\n",
      "Processing Record 28 of Set 5 | nanortalik\n",
      "Processing Record 29 of Set 5 | chihuahua\n",
      "City not found. Skipping...\n",
      "Processing Record 30 of Set 5 | babu\n",
      "Processing Record 31 of Set 5 | nador\n",
      "Processing Record 32 of Set 5 | cordoba\n",
      "Processing Record 33 of Set 5 | salalah\n",
      "Processing Record 34 of Set 5 | wexford\n",
      "Processing Record 35 of Set 5 | cayenne\n",
      "Processing Record 36 of Set 5 | yermakovskoye\n",
      "City not found. Skipping...\n",
      "Processing Record 37 of Set 5 | alofi\n",
      "Processing Record 38 of Set 5 | fatehpur\n",
      "Processing Record 39 of Set 5 | lishui\n",
      "Processing Record 40 of Set 5 | khandyga\n",
      "Processing Record 41 of Set 5 | hithadhoo\n",
      "Processing Record 42 of Set 5 | onda\n",
      "Processing Record 43 of Set 5 | whitianga\n",
      "Processing Record 44 of Set 5 | sulphur springs\n",
      "Processing Record 45 of Set 5 | necochea\n",
      "Processing Record 46 of Set 5 | tautira\n",
      "Processing Record 47 of Set 5 | hilo\n",
      "City not found. Skipping...\n",
      "Processing Record 48 of Set 5 | koumac\n",
      "City not found. Skipping...\n",
      "Processing Record 49 of Set 5 | carthage\n",
      "Processing Record 0 of Set 6 | makakilo city\n",
      "Processing Record 1 of Set 6 | zelenoborsk\n",
      "City not found. Skipping...\n",
      "Processing Record 2 of Set 6 | dongsheng\n",
      "Processing Record 3 of Set 6 | marshall\n",
      "Processing Record 4 of Set 6 | la asuncion\n",
      "Processing Record 5 of Set 6 | ibotirama\n",
      "Processing Record 6 of Set 6 | portland\n",
      "Processing Record 7 of Set 6 | ahuimanu\n",
      "Processing Record 8 of Set 6 | port lincoln\n",
      "City not found. Skipping...\n",
      "Processing Record 9 of Set 6 | vanavara\n",
      "Processing Record 10 of Set 6 | barra patuca\n",
      "Processing Record 11 of Set 6 | harlingen\n",
      "Processing Record 12 of Set 6 | uyuni\n",
      "Processing Record 13 of Set 6 | flin flon\n",
      "Processing Record 14 of Set 6 | san cristobal\n",
      "Processing Record 15 of Set 6 | puerto cabezas\n",
      "Processing Record 16 of Set 6 | saquarema\n",
      "Processing Record 17 of Set 6 | zaraza\n",
      "Processing Record 18 of Set 6 | itarema\n",
      "Processing Record 19 of Set 6 | lufilufi\n",
      "Processing Record 20 of Set 6 | gayeri\n",
      "Processing Record 21 of Set 6 | maldonado\n",
      "Processing Record 22 of Set 6 | macau\n",
      "Processing Record 23 of Set 6 | kahului\n",
      "Processing Record 24 of Set 6 | kloulklubed\n",
      "Processing Record 25 of Set 6 | san policarpo\n",
      "Processing Record 26 of Set 6 | sjenica\n",
      "City not found. Skipping...\n",
      "Processing Record 27 of Set 6 | lebedinyy\n",
      "City not found. Skipping...\n",
      "Processing Record 28 of Set 6 | urambo\n",
      "Processing Record 29 of Set 6 | fortuna\n",
      "Processing Record 30 of Set 6 | marienburg\n",
      "Processing Record 31 of Set 6 | lorengau\n",
      "Processing Record 32 of Set 6 | ostrovnoy\n",
      "Processing Record 33 of Set 6 | luba\n",
      "Processing Record 34 of Set 6 | coihaique\n",
      "Processing Record 35 of Set 6 | soyaux\n",
      "Processing Record 36 of Set 6 | hovd\n",
      "Processing Record 37 of Set 6 | carutapera\n",
      "Processing Record 38 of Set 6 | dabola\n",
      "City not found. Skipping...\n",
      "City not found. Skipping...\n",
      "Processing Record 39 of Set 6 | korop\n",
      "Processing Record 40 of Set 6 | bouna\n",
      "Processing Record 41 of Set 6 | sao jose da coroa grande\n",
      "Processing Record 42 of Set 6 | rawson\n",
      "Processing Record 43 of Set 6 | naryan-mar\n",
      "Processing Record 44 of Set 6 | clyde river\n",
      "Processing Record 45 of Set 6 | airai\n",
      "Processing Record 46 of Set 6 | amvrosiyivka\n",
      "Processing Record 47 of Set 6 | severo-yeniseyskiy\n",
      "Processing Record 48 of Set 6 | quarai\n",
      "Processing Record 49 of Set 6 | nishihara\n",
      "City not found. Skipping...\n",
      "Processing Record 0 of Set 7 | khor\n",
      "City not found. Skipping...\n",
      "Processing Record 1 of Set 7 | saint-joseph\n",
      "Processing Record 2 of Set 7 | port hardy\n",
      "Processing Record 3 of Set 7 | pouebo\n",
      "Processing Record 4 of Set 7 | saldanha\n",
      "Processing Record 5 of Set 7 | makow mazowiecki\n",
      "Processing Record 6 of Set 7 | sitka\n",
      "Processing Record 7 of Set 7 | harper\n",
      "City not found. Skipping...\n",
      "Processing Record 8 of Set 7 | kharan\n",
      "Processing Record 9 of Set 7 | ribeira grande\n",
      "Processing Record 10 of Set 7 | ambon\n",
      "City not found. Skipping...\n",
      "Processing Record 11 of Set 7 | stavrovo\n",
      "Processing Record 12 of Set 7 | turukhansk\n",
      "Processing Record 13 of Set 7 | vila velha\n",
      "Processing Record 14 of Set 7 | zaozerne\n",
      "Processing Record 15 of Set 7 | sao filipe\n",
      "Processing Record 16 of Set 7 | talnakh\n",
      "Processing Record 17 of Set 7 | dudinka\n",
      "Processing Record 18 of Set 7 | fort nelson\n",
      "Processing Record 19 of Set 7 | bishop auckland\n",
      "Processing Record 20 of Set 7 | vao\n",
      "Processing Record 21 of Set 7 | skjervoy\n",
      "Processing Record 22 of Set 7 | abu kamal\n",
      "Processing Record 23 of Set 7 | dikson\n",
      "City not found. Skipping...\n",
      "Processing Record 24 of Set 7 | laguna\n",
      "Processing Record 25 of Set 7 | rapid valley\n",
      "Processing Record 26 of Set 7 | klaksvik\n",
      "Processing Record 27 of Set 7 | zhezkazgan\n",
      "Processing Record 28 of Set 7 | kavieng\n",
      "Processing Record 29 of Set 7 | penzance\n",
      "Processing Record 30 of Set 7 | touros\n",
      "Processing Record 31 of Set 7 | cam ranh\n",
      "Processing Record 32 of Set 7 | flinders\n",
      "Processing Record 33 of Set 7 | nago\n",
      "Processing Record 34 of Set 7 | big spring\n",
      "Processing Record 35 of Set 7 | dicabisagan\n",
      "Processing Record 36 of Set 7 | banjar\n",
      "Processing Record 37 of Set 7 | felanitx\n",
      "City not found. Skipping...\n",
      "Processing Record 38 of Set 7 | vanimo\n",
      "Processing Record 39 of Set 7 | tiznit\n",
      "Processing Record 40 of Set 7 | ambilobe\n",
      "Processing Record 41 of Set 7 | chanal\n",
      "Processing Record 42 of Set 7 | retz\n",
      "City not found. Skipping...\n",
      "Processing Record 43 of Set 7 | dunedin\n",
      "Processing Record 44 of Set 7 | slave lake\n",
      "Processing Record 45 of Set 7 | lagoa\n",
      "Processing Record 46 of Set 7 | bissora\n",
      "Processing Record 47 of Set 7 | kiruna\n",
      "Processing Record 48 of Set 7 | lixourion\n",
      "Processing Record 49 of Set 7 | nipawin\n",
      "Processing Record 0 of Set 8 | santana do livramento\n",
      "Processing Record 1 of Set 8 | paonta sahib\n",
      "Processing Record 2 of Set 8 | umea\n",
      "Processing Record 3 of Set 8 | grand gaube\n",
      "Processing Record 4 of Set 8 | sao joao da barra\n",
      "Processing Record 5 of Set 8 | dwarka\n",
      "Processing Record 6 of Set 8 | leeton\n",
      "City not found. Skipping...\n",
      "Processing Record 7 of Set 8 | loandjili\n",
      "City not found. Skipping...\n",
      "Processing Record 8 of Set 8 | praia\n",
      "Processing Record 9 of Set 8 | byron bay\n",
      "Processing Record 10 of Set 8 | boca do acre\n",
      "Processing Record 11 of Set 8 | anzhero-sudzhensk\n",
      "City not found. Skipping...\n",
      "Processing Record 12 of Set 8 | pisco\n",
      "Processing Record 13 of Set 8 | bandar-e lengeh\n",
      "Processing Record 14 of Set 8 | terney\n",
      "Processing Record 15 of Set 8 | mongo\n",
      "Processing Record 16 of Set 8 | jining\n",
      "Processing Record 17 of Set 8 | thunder bay\n",
      "Processing Record 18 of Set 8 | wonthaggi\n",
      "Processing Record 19 of Set 8 | baruun-urt\n",
      "Processing Record 20 of Set 8 | ha tinh\n",
      "Processing Record 21 of Set 8 | ornskoldsvik\n",
      "Processing Record 22 of Set 8 | carman\n",
      "Processing Record 23 of Set 8 | kieta\n",
      "City not found. Skipping...\n",
      "Processing Record 24 of Set 8 | luwuk\n",
      "Processing Record 25 of Set 8 | novikovo\n",
      "Processing Record 26 of Set 8 | coos bay\n",
      "Processing Record 27 of Set 8 | aklavik\n",
      "Processing Record 28 of Set 8 | auki\n",
      "Processing Record 29 of Set 8 | jaru\n",
      "Processing Record 30 of Set 8 | chapais\n",
      "Processing Record 31 of Set 8 | yuci\n",
      "Processing Record 32 of Set 8 | podyuga\n",
      "Processing Record 33 of Set 8 | contai\n",
      "Processing Record 34 of Set 8 | steenwijk\n",
      "Processing Record 35 of Set 8 | ugoofaaru\n",
      "Processing Record 36 of Set 8 | bethel\n",
      "Processing Record 37 of Set 8 | weinan\n",
      "Processing Record 38 of Set 8 | kudahuvadhoo\n",
      "Processing Record 39 of Set 8 | ereymentau\n",
      "Processing Record 40 of Set 8 | purpe\n",
      "Processing Record 41 of Set 8 | thinadhoo\n",
      "Processing Record 42 of Set 8 | derzhavinsk\n",
      "Processing Record 43 of Set 8 | broome\n",
      "City not found. Skipping...\n",
      "City not found. Skipping...\n",
      "Processing Record 44 of Set 8 | lafiagi\n",
      "Processing Record 45 of Set 8 | ayan\n",
      "Processing Record 46 of Set 8 | haines junction\n",
      "Processing Record 47 of Set 8 | coxim\n",
      "Processing Record 48 of Set 8 | butiama\n",
      "Processing Record 49 of Set 8 | sambava\n",
      "Processing Record 0 of Set 9 | saint-augustin\n",
      "Processing Record 1 of Set 9 | campoverde\n",
      "Processing Record 2 of Set 9 | beloha\n",
      "Processing Record 3 of Set 9 | tullow\n",
      "Processing Record 4 of Set 9 | mount isa\n",
      "City not found. Skipping...\n",
      "Processing Record 5 of Set 9 | partur\n",
      "Processing Record 6 of Set 9 | katherine\n",
      "Processing Record 7 of Set 9 | borogontsy\n",
      "Processing Record 8 of Set 9 | huancabamba\n",
      "Processing Record 9 of Set 9 | coffs harbour\n",
      "Processing Record 10 of Set 9 | poum\n",
      "Processing Record 11 of Set 9 | meihekou\n",
      "Processing Record 12 of Set 9 | raipur\n",
      "Processing Record 13 of Set 9 | devonport\n",
      "Processing Record 14 of Set 9 | gat\n",
      "Processing Record 15 of Set 9 | yining\n",
      "Processing Record 16 of Set 9 | strezhevoy\n",
      "Processing Record 17 of Set 9 | rehoboth\n",
      "Processing Record 18 of Set 9 | aswan\n",
      "Processing Record 19 of Set 9 | saint-prosper\n",
      "Processing Record 20 of Set 9 | brasilia\n",
      "Processing Record 21 of Set 9 | bubaque\n",
      "Processing Record 22 of Set 9 | beyneu\n",
      "Processing Record 23 of Set 9 | arman\n",
      "Processing Record 24 of Set 9 | warrington\n",
      "Processing Record 25 of Set 9 | sechura\n",
      "Processing Record 26 of Set 9 | batagay-alyta\n",
      "City not found. Skipping...\n",
      "Processing Record 27 of Set 9 | valparaiso\n",
      "City not found. Skipping...\n",
      "Processing Record 28 of Set 9 | urengoy\n",
      "City not found. Skipping...\n",
      "Processing Record 29 of Set 9 | chimoio\n",
      "Processing Record 30 of Set 9 | praia da vitoria\n",
      "Processing Record 31 of Set 9 | norden\n",
      "Processing Record 32 of Set 9 | filingue\n",
      "Processing Record 33 of Set 9 | ape\n",
      "Processing Record 34 of Set 9 | belaya gora\n",
      "Processing Record 35 of Set 9 | mgachi\n",
      "Processing Record 36 of Set 9 | alamogordo\n",
      "Processing Record 37 of Set 9 | faya\n",
      "Processing Record 38 of Set 9 | apiai\n",
      "Processing Record 39 of Set 9 | mochudi\n",
      "Processing Record 40 of Set 9 | muromtsevo\n",
      "Processing Record 41 of Set 9 | san quintin\n",
      "Processing Record 42 of Set 9 | kursk\n",
      "Processing Record 43 of Set 9 | lakes entrance\n",
      "City not found. Skipping...\n",
      "Processing Record 44 of Set 9 | pacific grove\n",
      "Processing Record 45 of Set 9 | mudgee\n",
      "City not found. Skipping...\n",
      "Processing Record 46 of Set 9 | sokol\n",
      "Processing Record 47 of Set 9 | kelme\n",
      "City not found. Skipping...\n",
      "Processing Record 48 of Set 9 | ongandjera\n",
      "Processing Record 49 of Set 9 | axim\n",
      "Processing Record 0 of Set 10 | charters towers\n",
      "City not found. Skipping...\n",
      "Processing Record 1 of Set 10 | kumluca\n",
      "Processing Record 2 of Set 10 | rogovskaya\n",
      "Processing Record 3 of Set 10 | beyla\n",
      "Processing Record 4 of Set 10 | gizo\n",
      "Processing Record 5 of Set 10 | lasa\n",
      "Processing Record 6 of Set 10 | lethem\n",
      "Processing Record 7 of Set 10 | hambantota\n",
      "Processing Record 8 of Set 10 | eyl\n",
      "Processing Record 9 of Set 10 | oussouye\n",
      "Processing Record 10 of Set 10 | mporokoso\n",
      "Processing Record 11 of Set 10 | agucadoura\n",
      "Processing Record 12 of Set 10 | san pedro\n",
      "Processing Record 13 of Set 10 | saint-georges\n",
      "Processing Record 14 of Set 10 | gijon\n",
      "Processing Record 15 of Set 10 | ourinhos\n",
      "Processing Record 16 of Set 10 | vilhena\n",
      "Processing Record 17 of Set 10 | strathmore\n",
      "Processing Record 18 of Set 10 | korcula\n",
      "City not found. Skipping...\n",
      "Processing Record 19 of Set 10 | porbandar\n",
      "Processing Record 20 of Set 10 | santander\n",
      "Processing Record 21 of Set 10 | atambua\n",
      "Processing Record 22 of Set 10 | vero beach\n",
      "Processing Record 23 of Set 10 | sergeyevka\n",
      "Processing Record 24 of Set 10 | saint-francois\n",
      "Processing Record 25 of Set 10 | meulaboh\n",
      "Processing Record 26 of Set 10 | zhangjiakou\n",
      "Processing Record 27 of Set 10 | morondava\n",
      "Processing Record 28 of Set 10 | shenjiamen\n",
      "Processing Record 29 of Set 10 | san angelo\n",
      "Processing Record 30 of Set 10 | rio grande city\n",
      "Processing Record 31 of Set 10 | octeville\n",
      "Processing Record 32 of Set 10 | caucasia\n",
      "Processing Record 33 of Set 10 | brovst\n",
      "Processing Record 34 of Set 10 | labuhan\n",
      "Processing Record 35 of Set 10 | moose factory\n",
      "Processing Record 36 of Set 10 | roald\n",
      "Processing Record 37 of Set 10 | santiago del estero\n",
      "Processing Record 38 of Set 10 | porangatu\n",
      "City not found. Skipping...\n",
      "City not found. Skipping...\n",
      "Processing Record 39 of Set 10 | college\n",
      "City not found. Skipping...\n",
      "Processing Record 40 of Set 10 | diamantina\n",
      "City not found. Skipping...\n",
      "Processing Record 41 of Set 10 | tari\n",
      "City not found. Skipping...\n",
      "Processing Record 42 of Set 10 | davila\n",
      "City not found. Skipping...\n",
      "Processing Record 43 of Set 10 | zhicheng\n",
      "Processing Record 44 of Set 10 | reforma\n",
      "Processing Record 45 of Set 10 | kupang\n",
      "Processing Record 46 of Set 10 | palmer\n",
      "Processing Record 47 of Set 10 | eydhafushi\n",
      "Processing Record 48 of Set 10 | vestmanna\n",
      "Processing Record 49 of Set 10 | pareora\n",
      "Processing Record 0 of Set 11 | okmulgee\n",
      "Processing Record 1 of Set 11 | andijon\n",
      "Processing Record 2 of Set 11 | bambanglipuro\n",
      "Processing Record 3 of Set 11 | palana\n",
      "Processing Record 4 of Set 11 | luanda\n",
      "City not found. Skipping...\n",
      "Processing Record 5 of Set 11 | colesberg\n",
      "Processing Record 6 of Set 11 | sao benedito do rio preto\n",
      "City not found. Skipping...\n",
      "Processing Record 7 of Set 11 | ciceu-giurgesti\n",
      "Processing Record 8 of Set 11 | fjerritslev\n",
      "Processing Record 9 of Set 11 | nizhniy kuranakh\n",
      "Processing Record 10 of Set 11 | qaqortoq\n",
      "Processing Record 11 of Set 11 | la ronge\n",
      "Processing Record 12 of Set 11 | nadym\n",
      "Processing Record 13 of Set 11 | sangar\n",
      "Processing Record 14 of Set 11 | ulaangom\n",
      "Processing Record 15 of Set 11 | paris\n",
      "Processing Record 16 of Set 11 | clive\n",
      "Processing Record 17 of Set 11 | kiama\n",
      "Processing Record 18 of Set 11 | sibenik\n",
      "Processing Record 19 of Set 11 | solnechnyy\n",
      "Processing Record 20 of Set 11 | pedro ii\n",
      "City not found. Skipping...\n",
      "Processing Record 21 of Set 11 | dhidhdhoo\n",
      "Processing Record 22 of Set 11 | puerto madryn\n",
      "Processing Record 23 of Set 11 | fuerte olimpo\n",
      "Processing Record 24 of Set 11 | kenai\n",
      "City not found. Skipping...\n",
      "Processing Record 25 of Set 11 | katsuura\n",
      "City not found. Skipping...\n",
      "Processing Record 26 of Set 11 | aksu\n",
      "City not found. Skipping...\n",
      "City not found. Skipping...\n",
      "Processing Record 27 of Set 11 | pangnirtung\n",
      "Processing Record 28 of Set 11 | gondanglegi\n",
      "Processing Record 29 of Set 11 | shingu\n",
      "Processing Record 30 of Set 11 | aasiaat\n",
      "Processing Record 31 of Set 11 | kaseda\n",
      "Processing Record 32 of Set 11 | teknaf\n",
      "Processing Record 33 of Set 11 | tuy hoa\n",
      "Processing Record 34 of Set 11 | olga\n",
      "Processing Record 35 of Set 11 | kotelnikovo\n",
      "City not found. Skipping...\n",
      "Processing Record 36 of Set 11 | las cruces\n",
      "Processing Record 37 of Set 11 | eresos\n",
      "Processing Record 38 of Set 11 | cabra\n",
      "Processing Record 39 of Set 11 | zeya\n",
      "Processing Record 40 of Set 11 | naze\n",
      "Processing Record 41 of Set 11 | rondonopolis\n",
      "------------------------\n",
      "Data Retrieval Complete\n",
      "------------------------\n"
     ]
    }
   ],
   "source": [
    "\n",
    "# Store the non-null weather data in a new list 'weather_data_2' and print log of each city \n",
    "\n",
    "print('Beginning Data Retrieval')\n",
    "print('------------------------')\n",
    "weather_data_2=[]\n",
    "\n",
    "i=0\n",
    "iter_count=1\n",
    "city_count=1\n",
    "set=1\n",
    "while i < len(weather_data):\n",
    "    try:\n",
    "        weather_data[i]['name'] == cities[i]\n",
    "    except:\n",
    "        print('City not found. Skipping...')\n",
    "    else:\n",
    "        weather_data_2.append(weather_data[i])\n",
    "        print(f'Processing Record {city_count} of Set {set} | {cities[i]}')\n",
    "        iter_count += 1\n",
    "        city_count += 1\n",
    "        if iter_count == 51:\n",
    "            set += 1\n",
    "            iter_count = 1\n",
    "            city_count = 0\n",
    "    i += 1\n",
    "\n",
    "print('------------------------')\n",
    "print('Data Retrieval Complete')\n",
    "print('------------------------')\n",
    "        \n"
   ]
  },
  {
   "cell_type": "code",
   "execution_count": 40,
   "metadata": {},
   "outputs": [
    {
     "name": "stdout",
     "output_type": "stream",
     "text": [
      "We get 542 valid weather data from 611 cities\n"
     ]
    }
   ],
   "source": [
    "valid_len = len(weather_data_2)\n",
    "print(f'We get {valid_len} valid weather data from {len(cities)} cities' )"
   ]
  },
  {
   "cell_type": "code",
   "execution_count": 4,
   "metadata": {},
   "outputs": [
    {
     "ename": "NameError",
     "evalue": "name 'weather_data_2' is not defined",
     "output_type": "error",
     "traceback": [
      "\u001b[1;31m---------------------------------------------------------------------------\u001b[0m",
      "\u001b[1;31mNameError\u001b[0m                                 Traceback (most recent call last)",
      "\u001b[1;32m<ipython-input-4-a242c1f46bef>\u001b[0m in \u001b[0;36m<module>\u001b[1;34m\u001b[0m\n\u001b[0;32m      1\u001b[0m \u001b[1;31m# Export the raw weather data as dataframe and display the first five rows\u001b[0m\u001b[1;33m\u001b[0m\u001b[1;33m\u001b[0m\u001b[1;33m\u001b[0m\u001b[0m\n\u001b[1;32m----> 2\u001b[1;33m \u001b[0mraw_weather_df\u001b[0m \u001b[1;33m=\u001b[0m \u001b[0mpd\u001b[0m\u001b[1;33m.\u001b[0m\u001b[0mDataFrame\u001b[0m\u001b[1;33m(\u001b[0m\u001b[0mweather_data_2\u001b[0m\u001b[1;33m)\u001b[0m\u001b[1;33m\u001b[0m\u001b[1;33m\u001b[0m\u001b[0m\n\u001b[0m\u001b[0;32m      3\u001b[0m \u001b[0mraw_weather_df\u001b[0m\u001b[1;33m.\u001b[0m\u001b[0mhead\u001b[0m\u001b[1;33m(\u001b[0m\u001b[1;33m)\u001b[0m\u001b[1;33m\u001b[0m\u001b[1;33m\u001b[0m\u001b[0m\n",
      "\u001b[1;31mNameError\u001b[0m: name 'weather_data_2' is not defined"
     ]
    }
   ],
   "source": [
    "# Export the raw weather data as dataframe and display the first five rows\n",
    "raw_weather_df = pd.DataFrame(weather_data_2)\n",
    "raw_weather_df.head()"
   ]
  },
  {
   "cell_type": "markdown",
   "metadata": {},
   "source": [
    "### Convert Raw Data to DataFrame\n",
    "\n",
    "* Display the DataFrame"
   ]
  },
  {
   "cell_type": "code",
   "execution_count": 43,
   "metadata": {},
   "outputs": [
    {
     "data": {
      "text/html": [
       "<div>\n",
       "<style scoped>\n",
       "    .dataframe tbody tr th:only-of-type {\n",
       "        vertical-align: middle;\n",
       "    }\n",
       "\n",
       "    .dataframe tbody tr th {\n",
       "        vertical-align: top;\n",
       "    }\n",
       "\n",
       "    .dataframe thead th {\n",
       "        text-align: right;\n",
       "    }\n",
       "</style>\n",
       "<table border=\"1\" class=\"dataframe\">\n",
       "  <thead>\n",
       "    <tr style=\"text-align: right;\">\n",
       "      <th></th>\n",
       "      <th>name</th>\n",
       "      <th>dt</th>\n",
       "      <th>coord</th>\n",
       "      <th>clouds</th>\n",
       "      <th>sys</th>\n",
       "      <th>main</th>\n",
       "      <th>wind</th>\n",
       "    </tr>\n",
       "  </thead>\n",
       "  <tbody>\n",
       "    <tr>\n",
       "      <th>0</th>\n",
       "      <td>Gravdal</td>\n",
       "      <td>1554275106</td>\n",
       "      <td>{'lon': 5.78, 'lat': 59.79}</td>\n",
       "      <td>{'all': 75}</td>\n",
       "      <td>{'type': 1, 'id': 1677, 'message': 0.0052, 'co...</td>\n",
       "      <td>{'temp': 279.76, 'pressure': 1003, 'humidity':...</td>\n",
       "      <td>{'speed': 7.7, 'deg': 90}</td>\n",
       "    </tr>\n",
       "    <tr>\n",
       "      <th>1</th>\n",
       "      <td>Half Moon Bay</td>\n",
       "      <td>1554275207</td>\n",
       "      <td>{'lon': -122.43, 'lat': 37.46}</td>\n",
       "      <td>{'all': 90}</td>\n",
       "      <td>{'type': 1, 'id': 4322, 'message': 0.0086, 'co...</td>\n",
       "      <td>{'temp': 285.22, 'pressure': 1015, 'humidity':...</td>\n",
       "      <td>{'speed': 2.1, 'deg': 250}</td>\n",
       "    </tr>\n",
       "    <tr>\n",
       "      <th>2</th>\n",
       "      <td>Kruisfontein</td>\n",
       "      <td>1554275213</td>\n",
       "      <td>{'lon': 24.73, 'lat': -34}</td>\n",
       "      <td>{'all': 56}</td>\n",
       "      <td>{'message': 0.0033, 'country': 'ZA', 'sunrise'...</td>\n",
       "      <td>{'temp': 288.914, 'pressure': 1014.68, 'humidi...</td>\n",
       "      <td>{'speed': 5.12, 'deg': 66.0087}</td>\n",
       "    </tr>\n",
       "    <tr>\n",
       "      <th>3</th>\n",
       "      <td>Encruzilhada do Sul</td>\n",
       "      <td>1554274958</td>\n",
       "      <td>{'lon': -52.52, 'lat': -30.54}</td>\n",
       "      <td>{'all': 48}</td>\n",
       "      <td>{'message': 0.004, 'country': 'BR', 'sunrise':...</td>\n",
       "      <td>{'temp': 292.514, 'pressure': 1010.96, 'humidi...</td>\n",
       "      <td>{'speed': 2.27, 'deg': 336.509}</td>\n",
       "    </tr>\n",
       "    <tr>\n",
       "      <th>4</th>\n",
       "      <td>Verkhnyaya Inta</td>\n",
       "      <td>1554275213</td>\n",
       "      <td>{'lon': 60.32, 'lat': 65.99}</td>\n",
       "      <td>{'all': 80}</td>\n",
       "      <td>{'message': 0.0038, 'country': 'RU', 'sunrise'...</td>\n",
       "      <td>{'temp': 272.164, 'pressure': 1017.6, 'humidit...</td>\n",
       "      <td>{'speed': 4.42, 'deg': 254.509}</td>\n",
       "    </tr>\n",
       "  </tbody>\n",
       "</table>\n",
       "</div>"
      ],
      "text/plain": [
       "                  name          dt                           coord  \\\n",
       "0              Gravdal  1554275106     {'lon': 5.78, 'lat': 59.79}   \n",
       "1        Half Moon Bay  1554275207  {'lon': -122.43, 'lat': 37.46}   \n",
       "2         Kruisfontein  1554275213      {'lon': 24.73, 'lat': -34}   \n",
       "3  Encruzilhada do Sul  1554274958  {'lon': -52.52, 'lat': -30.54}   \n",
       "4      Verkhnyaya Inta  1554275213    {'lon': 60.32, 'lat': 65.99}   \n",
       "\n",
       "        clouds                                                sys  \\\n",
       "0  {'all': 75}  {'type': 1, 'id': 1677, 'message': 0.0052, 'co...   \n",
       "1  {'all': 90}  {'type': 1, 'id': 4322, 'message': 0.0086, 'co...   \n",
       "2  {'all': 56}  {'message': 0.0033, 'country': 'ZA', 'sunrise'...   \n",
       "3  {'all': 48}  {'message': 0.004, 'country': 'BR', 'sunrise':...   \n",
       "4  {'all': 80}  {'message': 0.0038, 'country': 'RU', 'sunrise'...   \n",
       "\n",
       "                                                main  \\\n",
       "0  {'temp': 279.76, 'pressure': 1003, 'humidity':...   \n",
       "1  {'temp': 285.22, 'pressure': 1015, 'humidity':...   \n",
       "2  {'temp': 288.914, 'pressure': 1014.68, 'humidi...   \n",
       "3  {'temp': 292.514, 'pressure': 1010.96, 'humidi...   \n",
       "4  {'temp': 272.164, 'pressure': 1017.6, 'humidit...   \n",
       "\n",
       "                              wind  \n",
       "0        {'speed': 7.7, 'deg': 90}  \n",
       "1       {'speed': 2.1, 'deg': 250}  \n",
       "2  {'speed': 5.12, 'deg': 66.0087}  \n",
       "3  {'speed': 2.27, 'deg': 336.509}  \n",
       "4  {'speed': 4.42, 'deg': 254.509}  "
      ]
     },
     "execution_count": 43,
     "metadata": {},
     "output_type": "execute_result"
    }
   ],
   "source": [
    "# Retrive column we needed from raw_weather_df and store them in a new dateframe\n",
    "weather_df = raw_weather_df[['name','dt','coord','clouds','sys','main','wind']]\n",
    "weather_df.head()\n"
   ]
  },
  {
   "cell_type": "code",
   "execution_count": 44,
   "metadata": {},
   "outputs": [
    {
     "name": "stdout",
     "output_type": "stream",
     "text": [
      "<class 'pandas.core.frame.DataFrame'>\n",
      "RangeIndex: 542 entries, 0 to 541\n",
      "Data columns (total 7 columns):\n",
      "name      542 non-null object\n",
      "dt        542 non-null int64\n",
      "coord     542 non-null object\n",
      "clouds    542 non-null object\n",
      "sys       542 non-null object\n",
      "main      542 non-null object\n",
      "wind      542 non-null object\n",
      "dtypes: int64(1), object(6)\n",
      "memory usage: 29.7+ KB\n"
     ]
    }
   ],
   "source": [
    "# Cheak if null values exsiting in the dataset\n",
    "weather_df.info()"
   ]
  },
  {
   "cell_type": "raw",
   "metadata": {},
   "source": [
    "There is no null values in the dataframe."
   ]
  },
  {
   "cell_type": "code",
   "execution_count": 45,
   "metadata": {},
   "outputs": [
    {
     "data": {
      "text/plain": [
       "542"
      ]
     },
     "execution_count": 45,
     "metadata": {},
     "output_type": "execute_result"
    }
   ],
   "source": [
    "# Check if duplicated rows existing\n",
    "weather_df['name'].nunique()"
   ]
  },
  {
   "cell_type": "raw",
   "metadata": {},
   "source": [
    "There is no duplicated city name which means no duplicated rows in the dataset."
   ]
  },
  {
   "cell_type": "code",
   "execution_count": 46,
   "metadata": {},
   "outputs": [
    {
     "data": {
      "text/html": [
       "<div>\n",
       "<style scoped>\n",
       "    .dataframe tbody tr th:only-of-type {\n",
       "        vertical-align: middle;\n",
       "    }\n",
       "\n",
       "    .dataframe tbody tr th {\n",
       "        vertical-align: top;\n",
       "    }\n",
       "\n",
       "    .dataframe thead th {\n",
       "        text-align: right;\n",
       "    }\n",
       "</style>\n",
       "<table border=\"1\" class=\"dataframe\">\n",
       "  <thead>\n",
       "    <tr style=\"text-align: right;\">\n",
       "      <th></th>\n",
       "      <th>City</th>\n",
       "      <th>Date</th>\n",
       "      <th>coord</th>\n",
       "      <th>clouds</th>\n",
       "      <th>sys</th>\n",
       "      <th>main</th>\n",
       "      <th>wind</th>\n",
       "    </tr>\n",
       "  </thead>\n",
       "  <tbody>\n",
       "    <tr>\n",
       "      <th>0</th>\n",
       "      <td>Gravdal</td>\n",
       "      <td>1554275106</td>\n",
       "      <td>{'lon': 5.78, 'lat': 59.79}</td>\n",
       "      <td>{'all': 75}</td>\n",
       "      <td>{'type': 1, 'id': 1677, 'message': 0.0052, 'co...</td>\n",
       "      <td>{'temp': 279.76, 'pressure': 1003, 'humidity':...</td>\n",
       "      <td>{'speed': 7.7, 'deg': 90}</td>\n",
       "    </tr>\n",
       "    <tr>\n",
       "      <th>1</th>\n",
       "      <td>Half Moon Bay</td>\n",
       "      <td>1554275207</td>\n",
       "      <td>{'lon': -122.43, 'lat': 37.46}</td>\n",
       "      <td>{'all': 90}</td>\n",
       "      <td>{'type': 1, 'id': 4322, 'message': 0.0086, 'co...</td>\n",
       "      <td>{'temp': 285.22, 'pressure': 1015, 'humidity':...</td>\n",
       "      <td>{'speed': 2.1, 'deg': 250}</td>\n",
       "    </tr>\n",
       "    <tr>\n",
       "      <th>2</th>\n",
       "      <td>Kruisfontein</td>\n",
       "      <td>1554275213</td>\n",
       "      <td>{'lon': 24.73, 'lat': -34}</td>\n",
       "      <td>{'all': 56}</td>\n",
       "      <td>{'message': 0.0033, 'country': 'ZA', 'sunrise'...</td>\n",
       "      <td>{'temp': 288.914, 'pressure': 1014.68, 'humidi...</td>\n",
       "      <td>{'speed': 5.12, 'deg': 66.0087}</td>\n",
       "    </tr>\n",
       "    <tr>\n",
       "      <th>3</th>\n",
       "      <td>Encruzilhada do Sul</td>\n",
       "      <td>1554274958</td>\n",
       "      <td>{'lon': -52.52, 'lat': -30.54}</td>\n",
       "      <td>{'all': 48}</td>\n",
       "      <td>{'message': 0.004, 'country': 'BR', 'sunrise':...</td>\n",
       "      <td>{'temp': 292.514, 'pressure': 1010.96, 'humidi...</td>\n",
       "      <td>{'speed': 2.27, 'deg': 336.509}</td>\n",
       "    </tr>\n",
       "    <tr>\n",
       "      <th>4</th>\n",
       "      <td>Verkhnyaya Inta</td>\n",
       "      <td>1554275213</td>\n",
       "      <td>{'lon': 60.32, 'lat': 65.99}</td>\n",
       "      <td>{'all': 80}</td>\n",
       "      <td>{'message': 0.0038, 'country': 'RU', 'sunrise'...</td>\n",
       "      <td>{'temp': 272.164, 'pressure': 1017.6, 'humidit...</td>\n",
       "      <td>{'speed': 4.42, 'deg': 254.509}</td>\n",
       "    </tr>\n",
       "  </tbody>\n",
       "</table>\n",
       "</div>"
      ],
      "text/plain": [
       "                  City        Date                           coord  \\\n",
       "0              Gravdal  1554275106     {'lon': 5.78, 'lat': 59.79}   \n",
       "1        Half Moon Bay  1554275207  {'lon': -122.43, 'lat': 37.46}   \n",
       "2         Kruisfontein  1554275213      {'lon': 24.73, 'lat': -34}   \n",
       "3  Encruzilhada do Sul  1554274958  {'lon': -52.52, 'lat': -30.54}   \n",
       "4      Verkhnyaya Inta  1554275213    {'lon': 60.32, 'lat': 65.99}   \n",
       "\n",
       "        clouds                                                sys  \\\n",
       "0  {'all': 75}  {'type': 1, 'id': 1677, 'message': 0.0052, 'co...   \n",
       "1  {'all': 90}  {'type': 1, 'id': 4322, 'message': 0.0086, 'co...   \n",
       "2  {'all': 56}  {'message': 0.0033, 'country': 'ZA', 'sunrise'...   \n",
       "3  {'all': 48}  {'message': 0.004, 'country': 'BR', 'sunrise':...   \n",
       "4  {'all': 80}  {'message': 0.0038, 'country': 'RU', 'sunrise'...   \n",
       "\n",
       "                                                main  \\\n",
       "0  {'temp': 279.76, 'pressure': 1003, 'humidity':...   \n",
       "1  {'temp': 285.22, 'pressure': 1015, 'humidity':...   \n",
       "2  {'temp': 288.914, 'pressure': 1014.68, 'humidi...   \n",
       "3  {'temp': 292.514, 'pressure': 1010.96, 'humidi...   \n",
       "4  {'temp': 272.164, 'pressure': 1017.6, 'humidit...   \n",
       "\n",
       "                              wind  \n",
       "0        {'speed': 7.7, 'deg': 90}  \n",
       "1       {'speed': 2.1, 'deg': 250}  \n",
       "2  {'speed': 5.12, 'deg': 66.0087}  \n",
       "3  {'speed': 2.27, 'deg': 336.509}  \n",
       "4  {'speed': 4.42, 'deg': 254.509}  "
      ]
     },
     "execution_count": 46,
     "metadata": {},
     "output_type": "execute_result"
    }
   ],
   "source": [
    "# rename columns\n",
    "weather_df = weather_df.rename(columns={'name':'City','dt':'Date'})\n",
    "# Check the change\n",
    "weather_df.head()\n"
   ]
  },
  {
   "cell_type": "code",
   "execution_count": 47,
   "metadata": {},
   "outputs": [],
   "source": [
    "# Add columns for Cloudiness, Country, Humidity, Lat, Lng, Max Temp, Wind Speed, and retrive value from the raw dateframe\n",
    "weather_df['Cloudiness'] = weather_df['clouds'].apply(lambda x: x['all'])  \n",
    "weather_df['Country'] = weather_df['sys'].apply(lambda x: x['country'])\n",
    "weather_df['Humidity'] = weather_df['main'].apply(lambda x: x['humidity'])\n",
    "weather_df['Lat'] = weather_df['coord'].apply(lambda x: x['lat'])\n",
    "weather_df['Lng'] = weather_df['coord'].apply(lambda x: x['lon'])\n",
    "weather_df['Max Temp']= weather_df['main'].apply(lambda x: x['temp_max'])\n",
    "weather_df['Wind Speed']= weather_df['wind'].apply(lambda x: x['speed'])"
   ]
  },
  {
   "cell_type": "code",
   "execution_count": 48,
   "metadata": {},
   "outputs": [],
   "source": [
    "# Convert Kelvin to Fahrenheit for Max Temp column\n",
    "# (0K − 273.15) × 9/5 + 32 = -459.7°F\n",
    "weather_df['Max Temp'] = (weather_df['Max Temp']-273.15)* 9/5 +32\n"
   ]
  },
  {
   "cell_type": "code",
   "execution_count": 49,
   "metadata": {},
   "outputs": [],
   "source": [
    "# Convert wind speed m/s to mph:1 m/s= 2.23694 mph\n",
    "weather_df['Wind Speed'] = round(weather_df['Wind Speed']*2.23694,2)"
   ]
  },
  {
   "cell_type": "code",
   "execution_count": 50,
   "metadata": {},
   "outputs": [
    {
     "data": {
      "text/html": [
       "<div>\n",
       "<style scoped>\n",
       "    .dataframe tbody tr th:only-of-type {\n",
       "        vertical-align: middle;\n",
       "    }\n",
       "\n",
       "    .dataframe tbody tr th {\n",
       "        vertical-align: top;\n",
       "    }\n",
       "\n",
       "    .dataframe thead th {\n",
       "        text-align: right;\n",
       "    }\n",
       "</style>\n",
       "<table border=\"1\" class=\"dataframe\">\n",
       "  <thead>\n",
       "    <tr style=\"text-align: right;\">\n",
       "      <th></th>\n",
       "      <th>City</th>\n",
       "      <th>Cloudiness</th>\n",
       "      <th>Country</th>\n",
       "      <th>Date</th>\n",
       "      <th>Humidity</th>\n",
       "      <th>Lat</th>\n",
       "      <th>Lng</th>\n",
       "      <th>Max Temp</th>\n",
       "      <th>Wind Speed</th>\n",
       "    </tr>\n",
       "  </thead>\n",
       "  <tbody>\n",
       "    <tr>\n",
       "      <th>0</th>\n",
       "      <td>Gravdal</td>\n",
       "      <td>75</td>\n",
       "      <td>NO</td>\n",
       "      <td>1554275106</td>\n",
       "      <td>70</td>\n",
       "      <td>59.79</td>\n",
       "      <td>5.78</td>\n",
       "      <td>46.4000</td>\n",
       "      <td>17.22</td>\n",
       "    </tr>\n",
       "    <tr>\n",
       "      <th>1</th>\n",
       "      <td>Half Moon Bay</td>\n",
       "      <td>90</td>\n",
       "      <td>US</td>\n",
       "      <td>1554275207</td>\n",
       "      <td>82</td>\n",
       "      <td>37.46</td>\n",
       "      <td>-122.43</td>\n",
       "      <td>57.2000</td>\n",
       "      <td>4.70</td>\n",
       "    </tr>\n",
       "    <tr>\n",
       "      <th>2</th>\n",
       "      <td>Kruisfontein</td>\n",
       "      <td>56</td>\n",
       "      <td>ZA</td>\n",
       "      <td>1554275213</td>\n",
       "      <td>77</td>\n",
       "      <td>-34.00</td>\n",
       "      <td>24.73</td>\n",
       "      <td>60.3752</td>\n",
       "      <td>11.45</td>\n",
       "    </tr>\n",
       "    <tr>\n",
       "      <th>3</th>\n",
       "      <td>Encruzilhada do Sul</td>\n",
       "      <td>48</td>\n",
       "      <td>BR</td>\n",
       "      <td>1554274958</td>\n",
       "      <td>94</td>\n",
       "      <td>-30.54</td>\n",
       "      <td>-52.52</td>\n",
       "      <td>66.8552</td>\n",
       "      <td>5.08</td>\n",
       "    </tr>\n",
       "    <tr>\n",
       "      <th>4</th>\n",
       "      <td>Verkhnyaya Inta</td>\n",
       "      <td>80</td>\n",
       "      <td>RU</td>\n",
       "      <td>1554275213</td>\n",
       "      <td>68</td>\n",
       "      <td>65.99</td>\n",
       "      <td>60.32</td>\n",
       "      <td>30.2252</td>\n",
       "      <td>9.89</td>\n",
       "    </tr>\n",
       "  </tbody>\n",
       "</table>\n",
       "</div>"
      ],
      "text/plain": [
       "                  City  Cloudiness Country        Date  Humidity    Lat  \\\n",
       "0              Gravdal          75      NO  1554275106        70  59.79   \n",
       "1        Half Moon Bay          90      US  1554275207        82  37.46   \n",
       "2         Kruisfontein          56      ZA  1554275213        77 -34.00   \n",
       "3  Encruzilhada do Sul          48      BR  1554274958        94 -30.54   \n",
       "4      Verkhnyaya Inta          80      RU  1554275213        68  65.99   \n",
       "\n",
       "      Lng  Max Temp  Wind Speed  \n",
       "0    5.78   46.4000       17.22  \n",
       "1 -122.43   57.2000        4.70  \n",
       "2   24.73   60.3752       11.45  \n",
       "3  -52.52   66.8552        5.08  \n",
       "4   60.32   30.2252        9.89  "
      ]
     },
     "execution_count": 50,
     "metadata": {},
     "output_type": "execute_result"
    }
   ],
   "source": [
    "# Reorganize the columns and remove unwanted columns\n",
    "weather_df = weather_df[['City','Cloudiness','Country','Date','Humidity','Lat','Lng','Max Temp','Wind Speed']]\n",
    "weather_df.head()"
   ]
  },
  {
   "cell_type": "code",
   "execution_count": 51,
   "metadata": {},
   "outputs": [],
   "source": [
    "# Export the city data into a .csv.\n",
    "\n",
    "\n",
    "weather_df.to_csv(output_data_file,index=False)"
   ]
  },
  {
   "cell_type": "code",
   "execution_count": 12,
   "metadata": {},
   "outputs": [],
   "source": [
    "# Import csv file we saved as dataframe \n",
    "weather_df = pd.read_csv(\"output_data/cities.csv\")"
   ]
  },
  {
   "cell_type": "code",
   "execution_count": 13,
   "metadata": {},
   "outputs": [
    {
     "name": "stdout",
     "output_type": "stream",
     "text": [
      "<class 'pandas.core.frame.DataFrame'>\n",
      "RangeIndex: 542 entries, 0 to 541\n",
      "Data columns (total 9 columns):\n",
      "City          542 non-null object\n",
      "Cloudiness    542 non-null int64\n",
      "Country       538 non-null object\n",
      "Date          542 non-null int64\n",
      "Humidity      542 non-null int64\n",
      "Lat           542 non-null float64\n",
      "Lng           542 non-null float64\n",
      "Max Temp      542 non-null float64\n",
      "Wind Speed    542 non-null float64\n",
      "dtypes: float64(4), int64(3), object(2)\n",
      "memory usage: 38.2+ KB\n"
     ]
    }
   ],
   "source": [
    "weather_df.info()"
   ]
  },
  {
   "cell_type": "code",
   "execution_count": 14,
   "metadata": {},
   "outputs": [
    {
     "name": "stdout",
     "output_type": "stream",
     "text": [
      "The earlieat date in our dataset is 1554269400(04/03/2019 0:30:00).\n",
      "The latest date in our dataset is 1554275340(04/03/2019 2:09:00).\n"
     ]
    }
   ],
   "source": [
    "# Find the earliest and latest time the weather data recorded \n",
    "# Convert Epoch & Unix Timestamp to local readable date\n",
    "# Resource https://www.epochconverter.com/\n",
    "print(f\"The earlieat date in our dataset is {weather_df['Date'].min()}(04/03/2019 0:30:00).\")\n",
    "print(f\"The latest date in our dataset is {weather_df['Date'].max()}(04/03/2019 2:09:00).\")\n",
    "  "
   ]
  },
  {
   "cell_type": "code",
   "execution_count": 15,
   "metadata": {},
   "outputs": [
    {
     "name": "stdout",
     "output_type": "stream",
     "text": [
      "All the weather data in our dataset recorded are within 99 mins\n"
     ]
    }
   ],
   "source": [
    "\n",
    "Period = int((weather_df['Date'].max()-weather_df['Date'].min())/60)\n",
    "\n",
    "print(f'All the weather data in our dataset recorded are within {Period} mins')"
   ]
  },
  {
   "cell_type": "markdown",
   "metadata": {},
   "source": [
    "### Plotting the Data\n",
    "* Use proper labeling of the plots using plot titles (including date of analysis) and axes labels.\n",
    "* Save the plotted figures as .pngs."
   ]
  },
  {
   "cell_type": "markdown",
   "metadata": {},
   "source": [
    "#### Latitude vs. Temperature Plot"
   ]
  },
  {
   "cell_type": "code",
   "execution_count": 41,
   "metadata": {
    "scrolled": true
   },
   "outputs": [
    {
     "data": {
      "image/png": "[encoded data removed]",
      "text/plain": [
       "<Figure size 432x288 with 1 Axes>"
      ]
     },
     "metadata": {
      "needs_background": "light"
     },
     "output_type": "display_data"
    }
   ],
   "source": [
    "# Generate the scatterplot to explore the corelation of latitude and temperature\n",
    "plt.scatter(weather_df[\"Lat\"],weather_df[\"Max Temp\"],marker=\"o\", edgecolors=\"black\")\n",
    "\n",
    "# Create the title,xlabel,ylabel\n",
    "plt.title('City Latitude vs Max Temperature(04/03/19)')\n",
    "plt.xlabel('Latitude')\n",
    "plt.ylabel('Max Temperature(F)')\n",
    "\n",
    "# Set limits on x and y axes\n",
    "#plt.xlim(-62,84)\n",
    "plt.ylim(-15,108)\n",
    "\n",
    "# Create grid\n",
    "plt.grid()\n",
    "\n",
    "\n",
    "# Save the plot\n",
    "plt.savefig('output_data\\maxTemp.png')\n"
   ]
  },
  {
   "cell_type": "code",
   "execution_count": 42,
   "metadata": {},
   "outputs": [
    {
     "name": "stdout",
     "output_type": "stream",
     "text": [
      "The highest temperature recorded is 101.7752F located on latitude 19.59.\n"
     ]
    }
   ],
   "source": [
    "# Find the highest temperature and the latitude location with the highest temperature \n",
    "max_tem = weather_df[\"Max Temp\"].max()\n",
    "location_maxtem = weather_df[weather_df[\"Max Temp\"]==max_tem][\"Lat\"].values[0]\n",
    "\n",
    "print(f'The highest temperature recorded is {max_tem}F located on latitude {location_maxtem}.')"
   ]
  },
  {
   "cell_type": "code",
   "execution_count": 43,
   "metadata": {},
   "outputs": [
    {
     "name": "stdout",
     "output_type": "stream",
     "text": [
      "The lowest temperature recorded is -9.399999999999947F located on latitude 68.22.\n"
     ]
    }
   ],
   "source": [
    "# Find the lowest temperature and the latitude location with the lowest temperature \n",
    "min_tem = weather_df[\"Max Temp\"].min()\n",
    "location_mintem = weather_df[weather_df[\"Max Temp\"]==min_tem][\"Lat\"].values[0]\n",
    "\n",
    "print(f'The lowest temperature recorded is {min_tem}F located on latitude {location_mintem}.')"
   ]
  },
  {
   "cell_type": "code",
   "execution_count": 44,
   "metadata": {},
   "outputs": [
    {
     "data": {
      "text/plain": [
       "count    11.000000\n",
       "mean     13.422727\n",
       "std      15.695750\n",
       "min     -15.770000\n",
       "25%      10.440000\n",
       "50%      16.730000\n",
       "75%      22.795000\n",
       "max      31.180000\n",
       "Name: Lat, dtype: float64"
      ]
     },
     "execution_count": 44,
     "metadata": {},
     "output_type": "execute_result"
    }
   ],
   "source": [
    "# the latitude region where Max Temp greater than 90F\n",
    "weather_df[weather_df[\"Max Temp\"]>90]['Lat'].describe()"
   ]
  },
  {
   "cell_type": "code",
   "execution_count": 45,
   "metadata": {},
   "outputs": [
    {
     "data": {
      "text/plain": [
       "Region\n",
       "-60 to -36    54.736000\n",
       "-36 to -12    73.069652\n",
       "-12 to 12     76.683042\n",
       "12 to 36      70.217394\n",
       "36 to 60      43.353576\n",
       "60 to 84      25.599545\n",
       "Name: Max Temp, dtype: float64"
      ]
     },
     "execution_count": 45,
     "metadata": {},
     "output_type": "execute_result"
    }
   ],
   "source": [
    "# Divide the world into different regions along the lantitude\n",
    "bin_edges =[-60,-36,-12,12,36,60,84]\n",
    "bin_names = [\"-60 to -36\", \"-36 to -12\", \"-12 to 12\", \"12 to 36\",'36 to 60','60 to 84']\n",
    "weather_df['Region'] = pd.cut(weather_df['Lat'], bin_edges, labels=bin_names)\n",
    "\n",
    "# the average of cities Max Temp  in each region\n",
    "weather_df.groupby('Region')[\"Max Temp\"].mean()"
   ]
  },
  {
   "cell_type": "markdown",
   "metadata": {},
   "source": [
    "#### Latitude vs. Humidity Plot"
   ]
  },
  {
   "cell_type": "code",
   "execution_count": 46,
   "metadata": {},
   "outputs": [
    {
     "data": {
      "image/png": "[encoded data removed]",
      "text/plain": [
       "<Figure size 432x288 with 1 Axes>"
      ]
     },
     "metadata": {
      "needs_background": "light"
     },
     "output_type": "display_data"
    }
   ],
   "source": [
    "# Generate the scatterplot to explore the corelation of latitude and humidity\n",
    "plt.scatter(weather_df['Lat'],weather_df['Humidity'],marker='o',edgecolors=\"black\",alpha=0.7)\n",
    "\n",
    "# Create the title,xlabel,ylabel\n",
    "plt.title(\"City Latitude vs Humidity(04/03/19)\")\n",
    "plt.xlabel('Latitude')\n",
    "plt.ylabel('Humidity(%)')\n",
    "\n",
    "# Set limits on x and y axes\n",
    "plt.xlim(-62,84)\n",
    "plt.ylim(-5,105)\n",
    "\n",
    "# Set the grid\n",
    "plt.grid()\n",
    "\n",
    "# Save the plot\n",
    "plt.savefig('output_data\\Humidity.png')"
   ]
  },
  {
   "cell_type": "code",
   "execution_count": 47,
   "metadata": {},
   "outputs": [
    {
     "data": {
      "text/plain": [
       "Region\n",
       "-60 to -36    68.148148\n",
       "-36 to -12    73.053763\n",
       "-12 to 12     88.901099\n",
       "12 to 36      61.238095\n",
       "36 to 60      71.542484\n",
       "60 to 84      80.095890\n",
       "Name: Humidity, dtype: float64"
      ]
     },
     "execution_count": 47,
     "metadata": {},
     "output_type": "execute_result"
    }
   ],
   "source": [
    "# Divide the world into different regions along the lantitude\n",
    "bin_edges =[-60,-36,-12,12,36,60,84]\n",
    "bin_names = [\"-60 to -36\", \"-36 to -12\", \"-12 to 12\", \"12 to 36\",'36 to 60','60 to 84']\n",
    "weather_df['Region'] = pd.cut(weather_df['Lat'], bin_edges, labels=bin_names)\n",
    "\n",
    "# the average of cities humidity  in each region\n",
    "weather_df.groupby('Region')['Humidity'].mean()"
   ]
  },
  {
   "cell_type": "code",
   "execution_count": 48,
   "metadata": {},
   "outputs": [
    {
     "data": {
      "text/plain": [
       "count    542.000000\n",
       "mean      73.702952\n",
       "std       22.100726\n",
       "min        9.000000\n",
       "25%       61.250000\n",
       "50%       78.000000\n",
       "75%       93.000000\n",
       "max      100.000000\n",
       "Name: Humidity, dtype: float64"
      ]
     },
     "execution_count": 48,
     "metadata": {},
     "output_type": "execute_result"
    }
   ],
   "source": [
    "# The distribution of Humidity values\n",
    "weather_df['Humidity'].describe()"
   ]
  },
  {
   "cell_type": "markdown",
   "metadata": {},
   "source": [
    "#### Latitude vs. Cloudiness Plot"
   ]
  },
  {
   "cell_type": "code",
   "execution_count": 49,
   "metadata": {},
   "outputs": [
    {
     "data": {
      "image/png": "[encoded data removed]",
      "text/plain": [
       "<Figure size 432x288 with 1 Axes>"
      ]
     },
     "metadata": {
      "needs_background": "light"
     },
     "output_type": "display_data"
    }
   ],
   "source": [
    "# Generate the scatterplot to explore the corelation of latitude and cloudiness\n",
    "plt.scatter(weather_df['Lat'],weather_df['Cloudiness'], marker='o',edgecolors=\"black\",alpha=0.7)\n",
    "\n",
    "# Set limits on x and y axes\n",
    "plt.xlim(-62,84)\n",
    "plt.ylim(-5,105)\n",
    "\n",
    "# Set grid\n",
    "plt.grid()\n",
    "\n",
    "# Create the title,xlabel,ylabel\n",
    "plt.title(\"City Latitude vs Cloudiness(04/03/19)\")\n",
    "plt.xlabel('Latitude')\n",
    "plt.ylabel('Cloudiness(%)')\n",
    "\n",
    "# Save the plot\n",
    "plt.savefig('output_data\\Cloudiness.png')"
   ]
  },
  {
   "cell_type": "markdown",
   "metadata": {},
   "source": [
    "#### Latitude vs. Wind Speed Plot"
   ]
  },
  {
   "cell_type": "code",
   "execution_count": 50,
   "metadata": {
    "scrolled": true
   },
   "outputs": [
    {
     "data": {
      "image/png": "[encoded data removed]",
      "text/plain": [
       "<Figure size 432x288 with 1 Axes>"
      ]
     },
     "metadata": {
      "needs_background": "light"
     },
     "output_type": "display_data"
    }
   ],
   "source": [
    "# Generate the scatterplot to explore the corelation of latitude and Wind Speed\n",
    "plt.scatter(weather_df['Lat'],weather_df['Wind Speed'], marker='o',edgecolors=\"black\",alpha=0.7)\n",
    "\n",
    "# Set limits on x and y axes\n",
    "plt.xlim(-62,84)\n",
    "plt.ylim(-2,59)\n",
    "\n",
    "# Create the title,xlabel,ylabel\n",
    "plt.title(\"City Latitude vs Wind Speed(04/03/19)\")\n",
    "plt.xlabel('Latitude')\n",
    "plt.ylabel('Wind Speed(mph)')\n",
    "\n",
    "# Set grid\n",
    "plt.grid()\n",
    "\n",
    "# Save the plot\n",
    "plt.savefig(\"output_data\\Wind Speed.png\")"
   ]
  },
  {
   "cell_type": "code",
   "execution_count": 51,
   "metadata": {},
   "outputs": [
    {
     "data": {
      "text/plain": [
       "0.9575645756457565"
      ]
     },
     "execution_count": 51,
     "metadata": {},
     "output_type": "execute_result"
    }
   ],
   "source": [
    "# The proportion of Wind Speed no more 20mph\n",
    "(weather_df['Wind Speed']<20).mean()"
   ]
  },
  {
   "cell_type": "code",
   "execution_count": 52,
   "metadata": {},
   "outputs": [
    {
     "data": {
      "text/plain": [
       "Region\n",
       "-60 to -36     8.900741\n",
       "-36 to -12     6.997849\n",
       "-12 to 12      5.517912\n",
       "12 to 36       8.230571\n",
       "36 to 60       7.899542\n",
       "60 to 84      11.916986\n",
       "Name: Wind Speed, dtype: float64"
      ]
     },
     "execution_count": 52,
     "metadata": {},
     "output_type": "execute_result"
    }
   ],
   "source": [
    "# Divide the world into different regions along the lantitude\n",
    "bin_edges =[-60,-36,-12,12,36,60,84]\n",
    "bin_names = [\"-60 to -36\", \"-36 to -12\", \"-12 to 12\", \"12 to 36\",'36 to 60','60 to 84']\n",
    "weather_df['Region'] = pd.cut(weather_df['Lat'], bin_edges, labels=bin_names)\n",
    "\n",
    "# Count the cities in each cloud cover types\n",
    "weather_df.groupby('Region')['Wind Speed'].mean()"
   ]
  },
  {
   "cell_type": "markdown",
   "metadata": {},
   "source": [
    "# DESCRIPTION OF OBSERVATIONS\n",
    "\n",
    "In this project, we collected the weather data of 542 cities across the world of varying distance from the equator, to explore the corelation of lantitude and the following weahter varibles:Max Temperature, Humidity, Cloudiness and Wind Speed.\n",
    "The weather data are collected with 99 mins(from 04/03/2019 0:30:00 to 04/03/2019 2:09:00). \n",
    "We divide the world into 6 region along lantitude(-60 to -36, -36 to -12, -12 to 12, 12 to 36,36 to 60, 60 to 84)\n",
    "\n",
    "1.latitide vs max temperature\n",
    "\n",
    "We can the equator region (latitude from -12 to 12) has highest average temperature(88.9F), further away the equator the regions are, lower the average temperature they got. The coldest region is located at lantitude from 60 to 84(25.6F). The highest temperature recorded is 101.8F located on latitude 19.59.The lowest temperature recorded is -9.40F located on latitude 68.22.\n",
    "\n",
    "\n",
    "2.latitide vs humididy\n",
    "\n",
    "Wind Speed doesn't seem to have much correlation to latitude. 75% latitudes have humidity percentage ranging from 61% to 100%. The cities on or very near the equator(latitude from -12 to 12) have highest average humidity (88.90%)\n",
    "\n",
    "\n",
    "3.latitide vs Wind Speed\n",
    "\n",
    "No significant correlation was found between latitude and Wind Speed. 95% Wind Speed varied from 0-20mph. the equator region (latitude from -12 to 12) has the smallest average speed(5.51mph), the region(latitude from 60 to 84) got the bigest speed(11.9mph)\n",
    "\n",
    "\n",
    "Conclusion: the equator region(latitude from -12 to 12) is a area with the highest average temperature, the highest humidity and the smallest windspeed.\n",
    "The region (latitude from 60 to 84),far away the equator region, on the contrary is the coldest region with the strongest wind power.\n"
   ]
  },
  {
   "cell_type": "code",
   "execution_count": null,
   "metadata": {},
   "outputs": [],
   "source": []
  }
 ],
 "metadata": {
  "anaconda-cloud": {},
  "kernel_info": {
   "name": "python3"
  },
  "kernelspec": {
   "display_name": "Python 3",
   "language": "python",
   "name": "python3"
  },
  "language_info": {
   "codemirror_mode": {
    "name": "ipython",
    "version": 3
   },
   "file_extension": ".py",
   "mimetype": "text/x-python",
   "name": "python",
   "nbconvert_exporter": "python",
   "pygments_lexer": "ipython3",
   "version": "3.7.3"
  },
  "nteract": {
   "version": "0.12.3"
  }
 },
 "nbformat": 4,
 "nbformat_minor": 2
}
